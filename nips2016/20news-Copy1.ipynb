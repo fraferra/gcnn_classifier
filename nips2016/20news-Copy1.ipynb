{
 "cells": [
  {
   "cell_type": "code",
   "execution_count": 1,
   "metadata": {},
   "outputs": [
    {
     "name": "stderr",
     "output_type": "stream",
     "text": [
      "/Library/Frameworks/Python.framework/Versions/3.5/lib/python3.5/site-packages/gensim/utils.py:1015: UserWarning: Pattern library is not installed, lemmatization won't be available.\n",
      "  warnings.warn(\"Pattern library is not installed, lemmatization won't be available.\")\n"
     ]
    }
   ],
   "source": [
    "%load_ext autoreload\n",
    "%autoreload 2\n",
    "\n",
    "import sys, os\n",
    "sys.path.insert(0, '..')\n",
    "from lib import models, graph, coarsening, utils\n",
    "\n",
    "import tensorflow as tf\n",
    "import matplotlib.pyplot as plt\n",
    "import scipy.sparse\n",
    "import numpy as np\n",
    "import time\n",
    "\n",
    "%matplotlib inline"
   ]
  },
  {
   "cell_type": "code",
   "execution_count": 2,
   "metadata": {},
   "outputs": [],
   "source": [
    "flags = tf.app.flags\n",
    "FLAGS = flags.FLAGS\n",
    "\n",
    "# Graphs.\n",
    "flags.DEFINE_integer('number_edges', 16, 'Graph: minimum number of edges per vertex.')\n",
    "flags.DEFINE_string('metric', 'cosine', 'Graph: similarity measure (between features).')\n",
    "# TODO: change cgcnn for combinatorial Laplacians.\n",
    "flags.DEFINE_bool('normalized_laplacian', True, 'Graph Laplacian: normalized.')\n",
    "flags.DEFINE_integer('coarsening_levels', 0, 'Number of coarsened graphs.')\n",
    "\n",
    "flags.DEFINE_string('dir_data', os.path.join('..', 'data', '20news'), 'Directory to store data.')\n",
    "flags.DEFINE_integer('val_size', 400, 'Size of the validation set.')"
   ]
  },
  {
   "cell_type": "markdown",
   "metadata": {},
   "source": [
    "# Data"
   ]
  },
  {
   "cell_type": "code",
   "execution_count": 3,
   "metadata": {
    "scrolled": true
   },
   "outputs": [
    {
     "name": "stdout",
     "output_type": "stream",
     "text": [
      "N = 11314 documents, C = 20 classes\n",
      "3 4\n",
      "N = 40000 documents, C = 4 classes\n"
     ]
    }
   ],
   "source": [
    "# Fetch dataset. Scikit-learn already performs some cleaning.\n",
    "remove = ('headers','footers','quotes')  # (), ('headers') or ('headers','footers','quotes')\n",
    "train = utils.Text20News(data_home=FLAGS.dir_data, subset='train', remove=remove)\n",
    "\n",
    "train1 = utils.TextBeers()\n",
    "\n",
    "\n",
    "# Pre-processing: transform everything to a-z and whitespace.\n"
   ]
  },
  {
   "cell_type": "code",
   "execution_count": 4,
   "metadata": {},
   "outputs": [
    {
     "name": "stdout",
     "output_type": "stream",
     "text": [
      "I was wondering if anyone out there could enlighten me on this car I saw\n",
      "the other day. It was a 2-door sports car, looked to be from the late 60s/\n",
      "early 70s. It was called a Bricklin. The doors were really small. In addition,\n",
      "the front bumper was separate from the rest of the body. This is \n",
      "all I know. If anyone can tellme a model name, engine specs, years\n",
      "of production, where this car is made, history, or whatever info you\n",
      "have on this funky looking car, please e-mail.\n",
      "Dark red color, light beige foam, average.\tIn the smell malt and caramel, not really light.\tAgain malt and caramel in the taste, not bad in the end.\tMaybe a note of honey in teh back, and a light fruitiness.\tAverage body.\tIn the aftertaste a light bitterness, with the malt and red fruit.\tNothing exceptional, but not bad, drinkable beer.\n"
     ]
    }
   ],
   "source": [
    "print(train.documents[0])\n",
    "print(train1.documents[0])"
   ]
  },
  {
   "cell_type": "code",
   "execution_count": 5,
   "metadata": {
    "scrolled": true
   },
   "outputs": [
    {
     "name": "stdout",
     "output_type": "stream",
     "text": [
      "document 1: label 4 --> comp.sys.mac.hardware, 90 words\n",
      "A fair number of brave souls who upgraded their SI clock oscillator have\n",
      "shared their experiences for this poll. Please send a brief message detailing\n",
      "your experiences with the procedure. Top speed attained, CPU rated speed,\n",
      "add on cards and adapters, heat sinks, hour of usage per day, floppy disk\n",
      "functionality with 800 and 1.4 m floppies are especially requested.\n",
      "\n",
      "I will be summarizing in the nex\n",
      "document 1: label 4 --> comp.sys.mac.hardware, 92 words\n",
      "  1.00 \"adapters\" (669)\n",
      "  2.00 \"add\" (684)\n",
      "  1.00 \"answered\" (2523)\n",
      "  1.00 \"attained\" (3941)\n",
      "  1.00 \"base\" (5026)\n",
      "  1.00 \"brave\" (7179)\n",
      "  1.00 \"brief\" (7318)\n",
      "  1.00 \"cards\" (8579)\n",
      "  2.00 \"clock\" (10473)\n",
      "  1.00 \"cpu\" (12728)\n",
      "  1.00 \"day\" (14053)\n",
      "  1.00 \"days\" (14068)\n",
      "  1.00 \"detailing\" (15215)\n",
      "  1.00 \"disk\" (16087)\n",
      "  1.00 \"especially\" (19550)\n",
      "  2.00 \"experiences\" (20279)\n",
      "  1.00 \"fair\" (20691)\n",
      "  1.00 \"floppies\" (22013)\n",
      "  1.00 \"floppy\" (22014)\n",
      "  1.00 \"functionality\" (23084)\n",
      "  1.00 \"haven\" (26300)\n",
      "  1.00 \"heat\" (26506)\n",
      "  1.00 \"hour\" (27781)\n",
      "  1.00 \"knowledge\" (33799)\n",
      "  1.00 \"message\" (38666)\n",
      "  1.00 \"network\" (42182)\n",
      "  3.00 \"num\" (43354)\n",
      "  1.00 \"number\" (43358)\n",
      "  1.00 \"oscillator\" (44835)\n",
      "  2.00 \"poll\" (47881)\n",
      "  1.00 \"procedure\" (48929)\n",
      "  1.00 \"rated\" (51083)\n",
      "  1.00 \"requested\" (52563)\n",
      "  1.00 \"send\" (55923)\n",
      "  1.00 \"shared\" (56362)\n",
      "  1.00 \"si\" (56820)\n",
      "  1.00 \"sinks\" (57140)\n",
      "  1.00 \"souls\" (58192)\n",
      "  2.00 \"speed\" (58480)\n",
      "  1.00 \"summarizing\" (60315)\n",
      "  1.00 \"thanks\" (62089)\n",
      "  1.00 \"upgrade\" (65817)\n",
      "  1.00 \"upgraded\" (65820)\n",
      "  1.00 \"usage\" (65998)\n",
      "a fair number of brave souls who upgraded their si clock oscillator have shared their experiences for this poll please send a brief message detailing your experiences with the procedure top speed attained cpu rated speed add on cards and adapters heat sinks hour of usage per day floppy disk functionality with num and num num m floppies are especially requested i will be summarizing in the next two\n"
     ]
    }
   ],
   "source": [
    "print(train.show_document(1)[:400])\n",
    "train.clean_text(num='substitute')\n",
    "\n",
    "# Analyzing / tokenizing: transform documents to bags-of-words.\n",
    "#stop_words = set(sklearn.feature_extraction.text.ENGLISH_STOP_WORDS)\n",
    "# Or stop words from NLTK.\n",
    "# Add e.g. don, ve.\n",
    "train.vectorize(stop_words='english')\n",
    "print(train.show_document(1)[:400])"
   ]
  },
  {
   "cell_type": "code",
   "execution_count": 6,
   "metadata": {
    "scrolled": true
   },
   "outputs": [
    {
     "name": "stdout",
     "output_type": "stream",
     "text": [
      "document 1: label 1 --> 3, 69 words\n",
      "Almost totally black. Beige foam, quite compact, not bad.\tLight smell, just a bit of roast, and some hop. A bit too light.\tThe taste is light oo, and drinkable, with some malt, roast, hints of coffee.\tNothing exceptional, but after all drinkable and pleasant.\tLight to average body.\tIn the aftertaste some dust, somr roast, hint of caramel, and a bit of bitterness.\tNo defect, drinkable, not bad.\n",
      "document 1: label 1 --> 3, 69 words\n",
      "  1.00 \"aftertaste\" (630)\n",
      "  1.00 \"average\" (2345)\n",
      "  2.00 \"bad\" (2522)\n",
      "  1.00 \"beige\" (3244)\n",
      "  3.00 \"bit\" (3682)\n",
      "  1.00 \"bitterness\" (3730)\n",
      "  1.00 \"black\" (3783)\n",
      "  1.00 \"body\" (4125)\n",
      "  1.00 \"caramel\" (5700)\n",
      "  1.00 \"coffee\" (7362)\n",
      "  1.00 \"compact\" (7631)\n",
      "  1.00 \"defect\" (9596)\n",
      "  3.00 \"drinkable\" (11300)\n",
      "  1.00 \"dust\" (11560)\n",
      "  1.00 \"exceptional\" (12833)\n",
      "  1.00 \"foam\" (14257)\n",
      "  1.00 \"hint\" (17129)\n",
      "  1.00 \"hints\" (17135)\n",
      "  1.00 \"hop\" (17363)\n",
      "  1.00 \"just\" (19571)\n",
      "  4.00 \"light\" (20721)\n",
      "  1.00 \"malt\" (21662)\n",
      "  1.00 \"oo\" (24916)\n",
      "  1.00 \"pleasant\" (26887)\n",
      "  1.00 \"quite\" (28425)\n",
      "  3.00 \"roast\" (30151)\n",
      "  1.00 \"smell\" (32635)\n",
      "  1.00 \"somr\" (33045)\n",
      "  1.00 \"taste\" (35473)\n",
      "  1.00 \"totally\" (36594)\n",
      "almost totally black beige foam quite compact not bad light smell just a bit of roast and some hop a bit too light the taste is light oo and drinkable with some malt roast hints of coffee nothing exceptional but after all drinkable and pleasant light to average body in the aftertaste some dust somr roast hint of caramel and a bit of bitterness no defect drinkable not bad\n"
     ]
    }
   ],
   "source": [
    "print(train1.show_document(1)[:400])\n",
    "train1.clean_text(num='substitute')\n",
    "\n",
    "# Analyzing / tokenizing: transform documents to bags-of-words.\n",
    "#stop_words = set(sklearn.feature_extraction.text.ENGLISH_STOP_WORDS)\n",
    "# Or stop words from NLTK.\n",
    "# Add e.g. don, ve.\n",
    "train1.vectorize(stop_words='english')\n",
    "print(train1.show_document(1)[:400])"
   ]
  },
  {
   "cell_type": "code",
   "execution_count": 7,
   "metadata": {},
   "outputs": [
    {
     "name": "stdout",
     "output_type": "stream",
     "text": [
      "N = 11314 documents, M = 72607 words, sparsity=0.0852%\n",
      "    480 documents in class  0 (alt.atheism)\n",
      "    584 documents in class  1 (comp.graphics)\n",
      "    591 documents in class  2 (comp.os.ms-windows.misc)\n",
      "    590 documents in class  3 (comp.sys.ibm.pc.hardware)\n",
      "    578 documents in class  4 (comp.sys.mac.hardware)\n",
      "    593 documents in class  5 (comp.windows.x)\n",
      "    585 documents in class  6 (misc.forsale)\n",
      "    594 documents in class  7 (rec.autos)\n",
      "    598 documents in class  8 (rec.motorcycles)\n",
      "    597 documents in class  9 (rec.sport.baseball)\n",
      "    600 documents in class 10 (rec.sport.hockey)\n",
      "    595 documents in class 11 (sci.crypt)\n",
      "    591 documents in class 12 (sci.electronics)\n",
      "    594 documents in class 13 (sci.med)\n",
      "    593 documents in class 14 (sci.space)\n",
      "    599 documents in class 15 (soc.religion.christian)\n",
      "    546 documents in class 16 (talk.politics.guns)\n",
      "    564 documents in class 17 (talk.politics.mideast)\n",
      "    465 documents in class 18 (talk.politics.misc)\n",
      "    377 documents in class 19 (talk.religion.misc)\n",
      "N = 10181 documents, M = 72607 words, sparsity=0.0941%\n",
      "shortest: 0, longest: 24042 words\n",
      "N = 10171 documents, M = 72607 words, sparsity=0.0934%\n"
     ]
    },
    {
     "data": {
      "image/png": "[encoded data removed]",
      "text/plain": [
       "<matplotlib.figure.Figure at 0x11cc5c588>"
      ]
     },
     "metadata": {},
     "output_type": "display_data"
    },
    {
     "data": {
      "image/png": "[encoded data removed]",
      "text/plain": [
       "<matplotlib.figure.Figure at 0x11cc5c630>"
      ]
     },
     "metadata": {},
     "output_type": "display_data"
    }
   ],
   "source": [
    "# Remove short documents.\n",
    "train.data_info(True)\n",
    "wc = train.remove_short_documents(nwords=20, vocab='full')\n",
    "train.data_info()\n",
    "print('shortest: {}, longest: {} words'.format(wc.min(), wc.max()))\n",
    "plt.figure(figsize=(17,5))\n",
    "plt.semilogy(wc, '.');\n",
    "# Remove encoded images.\n",
    "def remove_encoded_images(dataset, freq=1e3):\n",
    "    widx = train.vocab.index('ax')\n",
    "    wc = train.data[:,widx].toarray().squeeze()\n",
    "    idx = np.argwhere(wc < freq).squeeze()\n",
    "    dataset.keep_documents(idx)\n",
    "    return wc\n",
    "wc = remove_encoded_images(train)\n",
    "train.data_info()\n",
    "plt.figure(figsize=(17,5))\n",
    "plt.semilogy(wc, '.');"
   ]
  },
  {
   "cell_type": "code",
   "execution_count": 8,
   "metadata": {},
   "outputs": [
    {
     "name": "stdout",
     "output_type": "stream",
     "text": [
      "N = 40000 documents, M = 40453 words, sparsity=0.1426%\n",
      "   2139 documents in class  0 (2)\n",
      "  10401 documents in class  1 (3)\n",
      "  24463 documents in class  2 (4)\n",
      "   2997 documents in class  3 (5)\n"
     ]
    },
    {
     "data": {
      "text/plain": [
       "Counter({0: 2139, 1: 10401, 2: 24463, 3: 2997})"
      ]
     },
     "execution_count": 8,
     "metadata": {},
     "output_type": "execute_result"
    }
   ],
   "source": [
    "from collections import Counter\n",
    "train1.data_info(True)\n",
    "Counter(train1.labels)"
   ]
  },
  {
   "cell_type": "code",
   "execution_count": 9,
   "metadata": {},
   "outputs": [
    {
     "name": "stdout",
     "output_type": "stream",
     "text": [
      "N = 40000 documents, M = 40453 words, sparsity=0.1426%\n",
      "   2139 documents in class  0 (2)\n",
      "  10401 documents in class  1 (3)\n",
      "  24463 documents in class  2 (4)\n",
      "   2997 documents in class  3 (5)\n",
      "N = 39977 documents, M = 40453 words, sparsity=0.1426%\n",
      "shortest: 0, longest: 914 words\n"
     ]
    },
    {
     "data": {
      "image/png": "[encoded data removed]",
      "text/plain": [
       "<matplotlib.figure.Figure at 0x121459d68>"
      ]
     },
     "metadata": {},
     "output_type": "display_data"
    }
   ],
   "source": [
    "# Remove short documents.\n",
    "train1.data_info(True)\n",
    "wc1 = train1.remove_short_documents(nwords=20, vocab='full')\n",
    "train1.data_info()\n",
    "print('shortest: {}, longest: {} words'.format(wc1.min(), wc1.max()))\n",
    "plt.figure(figsize=(17,5))\n",
    "plt.semilogy(wc1, '.');\n"
   ]
  },
  {
   "cell_type": "code",
   "execution_count": 10,
   "metadata": {},
   "outputs": [
    {
     "name": "stdout",
     "output_type": "stream",
     "text": [
      "N = 39977 documents, M = 40453 words, sparsity=0.1426%\n"
     ]
    },
    {
     "name": "stderr",
     "output_type": "stream",
     "text": [
      "/Library/Frameworks/Python.framework/Versions/3.5/lib/python3.5/site-packages/matplotlib/axes/_base.py:3179: UserWarning: Attempting to set identical bottom==top results\n",
      "in singular transformations; automatically expanding.\n",
      "bottom=1.0, top=1.0\n",
      "  'bottom=%s, top=%s') % (bottom, top))\n"
     ]
    },
    {
     "data": {
      "image/png": "[encoded data removed]",
      "text/plain": [
       "<matplotlib.figure.Figure at 0x121c72470>"
      ]
     },
     "metadata": {},
     "output_type": "display_data"
    }
   ],
   "source": [
    "\n",
    "# Remove encoded images.\n",
    "def remove_encoded_images(dataset, freq=1e3):\n",
    "    widx = train1.vocab.index('ax')\n",
    "    wc1 = train1.data[:,widx].toarray().squeeze()\n",
    "    idx = np.argwhere(wc1 < freq).squeeze()\n",
    "    dataset.keep_documents(idx)\n",
    "    return wc1\n",
    "wc1 = remove_encoded_images(train1)\n",
    "train1.data_info()\n",
    "plt.figure(figsize=(17,5))\n",
    "plt.semilogy(wc1, '.');"
   ]
  },
  {
   "cell_type": "code",
   "execution_count": 11,
   "metadata": {},
   "outputs": [
    {
     "name": "stdout",
     "output_type": "stream",
     "text": [
      "53279 words not found in corpus\n",
      "N = 10171 documents, M = 19328 words, sparsity=0.3141%\n"
     ]
    }
   ],
   "source": [
    "# Word embedding\n",
    "if True:\n",
    "    train.embed()\n",
    "else:\n",
    "    train.embed(os.path.join('..', 'data', 'word2vec', 'GoogleNews-vectors-negative300.bin'))\n",
    "train.data_info()\n",
    "# Further feature selection. (TODO)"
   ]
  },
  {
   "cell_type": "code",
   "execution_count": null,
   "metadata": {
    "collapsed": true
   },
   "outputs": [],
   "source": []
  },
  {
   "cell_type": "code",
   "execution_count": 12,
   "metadata": {},
   "outputs": [
    {
     "name": "stdout",
     "output_type": "stream",
     "text": [
      "27872 words not found in corpus\n",
      "N = 39977 documents, M = 12581 words, sparsity=0.4500%\n"
     ]
    }
   ],
   "source": [
    "# Word embedding\n",
    "if True:\n",
    "    train1.embed()\n",
    "else:\n",
    "    train1.embed(os.path.join('..', 'data', 'word2vec', 'GoogleNews-vectors-negative300.bin'))\n",
    "train1.data_info()\n",
    "# Further feature selection. (TODO)"
   ]
  },
  {
   "cell_type": "code",
   "execution_count": null,
   "metadata": {
    "collapsed": true
   },
   "outputs": [],
   "source": []
  },
  {
   "cell_type": "code",
   "execution_count": 13,
   "metadata": {},
   "outputs": [
    {
     "name": "stdout",
     "output_type": "stream",
     "text": [
      "most frequent words\n",
      "    0: num        163934 counts\n",
      "    1: dollar      10562 counts\n",
      "    2: people       4093 counts\n",
      "    3: like         3942 counts\n",
      "    4: don          3869 counts\n",
      "    5: just         3721 counts\n",
      "    6: know         3464 counts\n",
      "    7: use          3166 counts\n",
      "    8: think        2995 counts\n",
      "    9: time         2966 counts\n",
      "   10: does         2749 counts\n",
      "   11: new          2606 counts\n",
      "   12: good         2492 counts\n",
      "   13: edu          2416 counts\n",
      "   14: way          2032 counts\n",
      "   15: make         2022 counts\n",
      "   16: god          1976 counts\n",
      "   17: used         1874 counts\n",
      "   18: ve           1857 counts\n",
      "   19: say          1841 counts\n",
      "N = 10171 documents, M = 1000 words, sparsity=2.8353%\n",
      "document 1: label 4 --> comp.sys.mac.hardware, 92 words\n",
      "  3.00 \"num\" (0)\n",
      "  1.00 \"number\" (40)\n",
      "  1.00 \"thanks\" (48)\n",
      "  1.00 \"day\" (76)\n",
      "  1.00 \"send\" (97)\n",
      "  1.00 \"disk\" (157)\n",
      "  1.00 \"message\" (206)\n",
      "  2.00 \"speed\" (226)\n",
      "  1.00 \"days\" (244)\n",
      "  1.00 \"especially\" (383)\n",
      "  2.00 \"add\" (443)\n",
      "  1.00 \"haven\" (467)\n",
      "  1.00 \"network\" (529)\n",
      "  1.00 \"cards\" (591)\n",
      "  1.00 \"knowledge\" (614)\n",
      "  1.00 \"base\" (708)\n",
      "  1.00 \"floppy\" (758)\n",
      "  2.00 \"clock\" (977)\n",
      "N = 9922 documents, M = 1000 words, sparsity=2.8984%\n",
      "    408 documents in class  0 (alt.atheism)\n",
      "    515 documents in class  1 (comp.graphics)\n",
      "    510 documents in class  2 (comp.os.ms-windows.misc)\n",
      "    546 documents in class  3 (comp.sys.ibm.pc.hardware)\n",
      "    507 documents in class  4 (comp.sys.mac.hardware)\n",
      "    545 documents in class  5 (comp.windows.x)\n",
      "    529 documents in class  6 (misc.forsale)\n",
      "    497 documents in class  7 (rec.autos)\n",
      "    477 documents in class  8 (rec.motorcycles)\n",
      "    477 documents in class  9 (rec.sport.baseball)\n",
      "    521 documents in class 10 (rec.sport.hockey)\n",
      "    540 documents in class 11 (sci.crypt)\n",
      "    527 documents in class 12 (sci.electronics)\n",
      "    522 documents in class 13 (sci.med)\n",
      "    523 documents in class 14 (sci.space)\n",
      "    559 documents in class 15 (soc.religion.christian)\n",
      "    495 documents in class 16 (talk.politics.guns)\n",
      "    501 documents in class 17 (talk.politics.mideast)\n",
      "    413 documents in class 18 (talk.politics.misc)\n",
      "    310 documents in class 19 (talk.religion.misc)\n"
     ]
    },
    {
     "data": {
      "image/png": "[encoded data removed]",
      "text/plain": [
       "<matplotlib.figure.Figure at 0x11a702748>"
      ]
     },
     "metadata": {},
     "output_type": "display_data"
    }
   ],
   "source": [
    "# Feature selection.\n",
    "# Other options include: mutual information or document count.\n",
    "freq = train.keep_top_words(1000, 20)\n",
    "train.data_info()\n",
    "train.show_document(1)\n",
    "plt.figure(figsize=(17,5))\n",
    "plt.semilogy(freq);\n",
    "\n",
    "# Remove documents whose signal would be the zero vector.\n",
    "wc = train.remove_short_documents(nwords=5, vocab='selected')\n",
    "train.data_info(True)"
   ]
  },
  {
   "cell_type": "code",
   "execution_count": 14,
   "metadata": {},
   "outputs": [
    {
     "name": "stdout",
     "output_type": "stream",
     "text": [
      "most frequent words\n",
      "    0: beer        50177 counts\n",
      "    1: num         49809 counts\n",
      "    2: head        39265 counts\n",
      "    3: taste       28368 counts\n",
      "    4: nice        26489 counts\n",
      "    5: like        25112 counts\n",
      "    6: good        24614 counts\n",
      "    7: malt        23449 counts\n",
      "    8: dark        23420 counts\n",
      "    9: sweet       22734 counts\n",
      "   10: hops        22575 counts\n",
      "   11: light       21245 counts\n",
      "   12: chocolate   20939 counts\n",
      "   13: coffee      20371 counts\n",
      "   14: flavor      19066 counts\n",
      "   15: bit         18974 counts\n",
      "   16: carbonation  18231 counts\n",
      "   17: aroma       16723 counts\n",
      "   18: little      16718 counts\n",
      "   19: glass       16384 counts\n",
      "N = 39977 documents, M = 1000 words, sparsity=4.5756%\n",
      "document 1: label 1 --> 3, 69 words\n",
      "  1.00 \"taste\" (3)\n",
      "  1.00 \"malt\" (7)\n",
      "  4.00 \"light\" (11)\n",
      "  1.00 \"coffee\" (13)\n",
      "  3.00 \"bit\" (15)\n",
      "  1.00 \"smell\" (20)\n",
      "  1.00 \"just\" (22)\n",
      "  1.00 \"hop\" (29)\n",
      "  1.00 \"caramel\" (32)\n",
      "  1.00 \"body\" (34)\n",
      "  1.00 \"black\" (36)\n",
      "  1.00 \"bitterness\" (39)\n",
      "  1.00 \"quite\" (52)\n",
      "  3.00 \"drinkable\" (75)\n",
      "  1.00 \"hint\" (78)\n",
      "  1.00 \"hints\" (108)\n",
      "  1.00 \"aftertaste\" (112)\n",
      "  2.00 \"bad\" (132)\n",
      "  1.00 \"foam\" (156)\n",
      "  1.00 \"pleasant\" (195)\n",
      "  1.00 \"average\" (198)\n",
      "  3.00 \"roast\" (232)\n",
      "  1.00 \"beige\" (498)\n",
      "  1.00 \"exceptional\" (674)\n",
      "  1.00 \"totally\" (815)\n",
      "N = 39977 documents, M = 1000 words, sparsity=4.5756%\n",
      "   2139 documents in class  0 (2)\n",
      "  10397 documents in class  1 (3)\n",
      "  24450 documents in class  2 (4)\n",
      "   2991 documents in class  3 (5)\n"
     ]
    },
    {
     "data": {
      "image/png": "[encoded data removed]",
      "text/plain": [
       "<matplotlib.figure.Figure at 0x122f70400>"
      ]
     },
     "metadata": {},
     "output_type": "display_data"
    }
   ],
   "source": [
    "# Feature selection.\n",
    "# Other options include: mutual information or document count.\n",
    "freq1 = train1.keep_top_words(1000, 20)\n",
    "train1.data_info()\n",
    "train1.show_document(1)\n",
    "plt.figure(figsize=(17,5))\n",
    "plt.semilogy(freq1);\n",
    "\n",
    "# Remove documents whose signal would be the zero vector.\n",
    "wc1 = train1.remove_short_documents(nwords=5, vocab='selected')\n",
    "train1.data_info(True)"
   ]
  },
  {
   "cell_type": "code",
   "execution_count": 15,
   "metadata": {},
   "outputs": [
    {
     "name": "stdout",
     "output_type": "stream",
     "text": [
      "document 1: label 4 --> comp.sys.mac.hardware, 92 words\n",
      "  0.13 \"num\" (0)\n",
      "  0.04 \"number\" (40)\n",
      "  0.04 \"thanks\" (48)\n",
      "  0.04 \"day\" (76)\n",
      "  0.04 \"send\" (97)\n",
      "  0.04 \"disk\" (157)\n",
      "  0.04 \"message\" (206)\n",
      "  0.09 \"speed\" (226)\n",
      "  0.04 \"days\" (244)\n",
      "  0.04 \"especially\" (383)\n",
      "  0.09 \"add\" (443)\n",
      "  0.04 \"haven\" (467)\n",
      "  0.04 \"network\" (529)\n",
      "  0.04 \"cards\" (591)\n",
      "  0.04 \"knowledge\" (614)\n",
      "  0.04 \"base\" (708)\n",
      "  0.04 \"floppy\" (758)\n",
      "  0.09 \"clock\" (977)\n"
     ]
    }
   ],
   "source": [
    "train.normalize(norm='l1')\n",
    "train.show_document(1);"
   ]
  },
  {
   "cell_type": "code",
   "execution_count": 16,
   "metadata": {},
   "outputs": [
    {
     "name": "stdout",
     "output_type": "stream",
     "text": [
      "document 1: label 1 --> 3, 69 words\n",
      "  0.03 \"taste\" (3)\n",
      "  0.03 \"malt\" (7)\n",
      "  0.11 \"light\" (11)\n",
      "  0.03 \"coffee\" (13)\n",
      "  0.09 \"bit\" (15)\n",
      "  0.03 \"smell\" (20)\n",
      "  0.03 \"just\" (22)\n",
      "  0.03 \"hop\" (29)\n",
      "  0.03 \"caramel\" (32)\n",
      "  0.03 \"body\" (34)\n",
      "  0.03 \"black\" (36)\n",
      "  0.03 \"bitterness\" (39)\n",
      "  0.03 \"quite\" (52)\n",
      "  0.09 \"drinkable\" (75)\n",
      "  0.03 \"hint\" (78)\n",
      "  0.03 \"hints\" (108)\n",
      "  0.03 \"aftertaste\" (112)\n",
      "  0.06 \"bad\" (132)\n",
      "  0.03 \"foam\" (156)\n",
      "  0.03 \"pleasant\" (195)\n",
      "  0.03 \"average\" (198)\n",
      "  0.09 \"roast\" (232)\n",
      "  0.03 \"beige\" (498)\n",
      "  0.03 \"exceptional\" (674)\n",
      "  0.03 \"totally\" (815)\n"
     ]
    }
   ],
   "source": [
    "train1.normalize(norm='l1')\n",
    "train1.show_document(1);"
   ]
  },
  {
   "cell_type": "code",
   "execution_count": 17,
   "metadata": {},
   "outputs": [
    {
     "name": "stdout",
     "output_type": "stream",
     "text": [
      "N = 7532 documents, C = 20 classes\n",
      "N = 7532 documents, M = 1000 words, sparsity=2.4662%\n",
      "shortest: 0, longest: 23751 words\n",
      "N = 6695 documents, M = 1000 words, sparsity=2.7528%\n",
      "    275 documents in class  0 (alt.atheism)\n",
      "    355 documents in class  1 (comp.graphics)\n",
      "    358 documents in class  2 (comp.os.ms-windows.misc)\n",
      "    370 documents in class  3 (comp.sys.ibm.pc.hardware)\n",
      "    348 documents in class  4 (comp.sys.mac.hardware)\n",
      "    365 documents in class  5 (comp.windows.x)\n",
      "    359 documents in class  6 (misc.forsale)\n",
      "    336 documents in class  7 (rec.autos)\n",
      "    321 documents in class  8 (rec.motorcycles)\n",
      "    345 documents in class  9 (rec.sport.baseball)\n",
      "    350 documents in class 10 (rec.sport.hockey)\n",
      "    344 documents in class 11 (sci.crypt)\n",
      "    362 documents in class 12 (sci.electronics)\n",
      "    345 documents in class 13 (sci.med)\n",
      "    346 documents in class 14 (sci.space)\n",
      "    365 documents in class 15 (soc.religion.christian)\n",
      "    319 documents in class 16 (talk.politics.guns)\n",
      "    338 documents in class 17 (talk.politics.mideast)\n",
      "    280 documents in class 18 (talk.politics.misc)\n",
      "    214 documents in class 19 (talk.religion.misc)\n"
     ]
    }
   ],
   "source": [
    "# Test dataset.\n",
    "test = utils.Text20News(data_home=FLAGS.dir_data, subset='test', remove=remove)\n",
    "\n",
    "#test = utils.TextBeers(test=True)\n",
    "\n",
    "test.clean_text(num='substitute')\n",
    "test.vectorize(vocabulary=train.vocab)\n",
    "test.data_info()\n",
    "wc = test.remove_short_documents(nwords=5, vocab='selected')\n",
    "print('shortest: {}, longest: {} words'.format(wc.min(), wc.max()))\n",
    "test.data_info(True)\n",
    "test.normalize(norm='l1')"
   ]
  },
  {
   "cell_type": "code",
   "execution_count": 18,
   "metadata": {},
   "outputs": [
    {
     "name": "stdout",
     "output_type": "stream",
     "text": [
      "3 4\n",
      "N = 9411 documents, C = 4 classes\n",
      "N = 9411 documents, M = 1000 words, sparsity=4.1138%\n",
      "shortest: 0, longest: 300 words\n",
      "N = 9405 documents, M = 1000 words, sparsity=4.1163%\n",
      "    507 documents in class  0 (2)\n",
      "   2749 documents in class  1 (3)\n",
      "   5629 documents in class  2 (4)\n",
      "    520 documents in class  3 (5)\n"
     ]
    }
   ],
   "source": [
    "# Test dataset.\n",
    "#test1 = utils.Text20News(data_home=FLAGS.dir_data, subset='test', remove=remove)\n",
    "\n",
    "test1 = utils.TextBeers(test=True)\n",
    "\n",
    "test1.clean_text(num='substitute')\n",
    "test1.vectorize(vocabulary=train1.vocab)\n",
    "test1.data_info()\n",
    "wc1 = test1.remove_short_documents(nwords=5, vocab='selected')\n",
    "print('shortest: {}, longest: {} words'.format(wc1.min(), wc1.max()))\n",
    "test1.data_info(True)\n",
    "test1.normalize(norm='l1')"
   ]
  },
  {
   "cell_type": "code",
   "execution_count": 19,
   "metadata": {},
   "outputs": [
    {
     "name": "stdout",
     "output_type": "stream",
     "text": [
      "N = 39977 documents, M = 1000 words, sparsity=4.5756%\n",
      "   2139 documents in class  0 (2)\n",
      "  10397 documents in class  1 (3)\n",
      "  24450 documents in class  2 (4)\n",
      "   2991 documents in class  3 (5)\n"
     ]
    }
   ],
   "source": [
    "train1.data_info(True)\n",
    "\n"
   ]
  },
  {
   "cell_type": "code",
   "execution_count": 20,
   "metadata": {},
   "outputs": [
    {
     "data": {
      "text/plain": [
       "Counter({0: 507, 1: 2749, 2: 5629, 3: 520})"
      ]
     },
     "execution_count": 20,
     "metadata": {},
     "output_type": "execute_result"
    }
   ],
   "source": [
    "from collections import Counter\n",
    "Counter(test1.labels)"
   ]
  },
  {
   "cell_type": "code",
   "execution_count": 21,
   "metadata": {
    "collapsed": true
   },
   "outputs": [],
   "source": [
    "if True:\n",
    "    train_data = train.data.astype(np.float32)\n",
    "    test_data = test.data.astype(np.float32)\n",
    "    train_labels = train.labels\n",
    "    test_labels = test.labels\n",
    "else:\n",
    "    perm = np.random.RandomState(seed=42).permutation(dataset.data.shape[0])\n",
    "    Ntest = 6695\n",
    "    perm_test = perm[:Ntest]\n",
    "    perm_train = perm[Ntest:]\n",
    "    train_data = train.data[perm_train,:].astype(np.float32)\n",
    "    test_data = train.data[perm_test,:].astype(np.float32)\n",
    "    train_labels = train.labels[perm_train]\n",
    "    test_labels = train.labels[perm_test]\n",
    "\n",
    "if True:\n",
    "    graph_data = train.embeddings.astype(np.float32)\n",
    "else:\n",
    "    graph_data = train.data.T.astype(np.float32).toarray()\n",
    "\n",
    "#del train, test"
   ]
  },
  {
   "cell_type": "code",
   "execution_count": 22,
   "metadata": {
    "collapsed": true
   },
   "outputs": [],
   "source": [
    "if True:\n",
    "    train_data1 = train1.data.astype(np.float32)\n",
    "    test_data1 = test1.data.astype(np.float32)\n",
    "    train_labels1 = train1.labels\n",
    "    test_labels1 = test1.labels\n",
    "else:\n",
    "    perm1 = np.random.RandomState(seed=42).permutation(dataset.data.shape[0])\n",
    "    Ntest = 6695\n",
    "    print(\"bau\")\n",
    "    perm_test = perm[:Ntest]\n",
    "    perm_train = perm[Ntest:]\n",
    "    train_data = train.data[perm_train,:].astype(np.float32)\n",
    "    test_data = train.data[perm_test,:].astype(np.float32)\n",
    "    train_labels = train.labels[perm_train]\n",
    "    test_labels = train.labels[perm_test]\n",
    "\n",
    "if True:\n",
    "    graph_data1 = train1.embeddings.astype(np.float32)\n",
    "else:\n",
    "    graph_data1 = train1.data.T.astype(np.float32).toarray()\n",
    "\n",
    "#del train, test"
   ]
  },
  {
   "cell_type": "code",
   "execution_count": 23,
   "metadata": {},
   "outputs": [
    {
     "data": {
      "text/plain": [
       "(1000, 100)"
      ]
     },
     "execution_count": 23,
     "metadata": {},
     "output_type": "execute_result"
    }
   ],
   "source": [
    "train1.embeddings.shape"
   ]
  },
  {
   "cell_type": "markdown",
   "metadata": {},
   "source": [
    "# Feature graph"
   ]
  },
  {
   "cell_type": "code",
   "execution_count": null,
   "metadata": {
    "collapsed": true
   },
   "outputs": [],
   "source": [
    "t_start = time.process_time()\n",
    "dist, idx = graph.distance_sklearn_metrics(graph_data, k=FLAGS.number_edges, metric=FLAGS.metric)\n",
    "A = graph.adjacency(dist, idx)\n",
    "print(\"{} > {} edges\".format(A.nnz//2, FLAGS.number_edges*graph_data.shape[0]//2))\n",
    "A = graph.replace_random_edges(A, 0)\n",
    "graphs, perm = coarsening.coarsen(A, levels=FLAGS.coarsening_levels, self_connections=False)\n",
    "L = [graph.laplacian(A, normalized=True) for A in graphs]\n",
    "print('Execution time: {:.2f}s'.format(time.process_time() - t_start))\n",
    "#graph.plot_spectrum(L)\n",
    "#del graph_data, A, dist, idx"
   ]
  },
  {
   "cell_type": "code",
   "execution_count": 24,
   "metadata": {},
   "outputs": [
    {
     "name": "stdout",
     "output_type": "stream",
     "text": [
      "11551 > 8000 edges\n",
      "Layer 0: M_0 = |V| = 1000 nodes (0 added),|E| = 11551 edges\n",
      "Execution time: 2.20s\n"
     ]
    }
   ],
   "source": [
    "t_start = time.process_time()\n",
    "dist, idx = graph.distance_lshforest(graph_data.astype(np.float64), k=FLAGS.number_edges, metric=FLAGS.metric)\n",
    "A = graph.adjacency(dist.astype(np.float32), idx)\n",
    "print(\"{} > {} edges\".format(A.nnz//2, FLAGS.number_edges*graph_data.shape[0]//2))\n",
    "A = graph.replace_random_edges(A, 0)\n",
    "graphs, perm = coarsening.coarsen(A, levels=FLAGS.coarsening_levels, self_connections=False)\n",
    "L = [graph.laplacian(A, normalized=True) for A in graphs]\n",
    "print('Execution time: {:.2f}s'.format(time.process_time() - t_start))\n",
    "#graph.plot_spectrum(L)\n",
    "#del graph_data, A, dist, idx"
   ]
  },
  {
   "cell_type": "code",
   "execution_count": null,
   "metadata": {},
   "outputs": [],
   "source": [
    "A.todense()"
   ]
  },
  {
   "cell_type": "code",
   "execution_count": 25,
   "metadata": {},
   "outputs": [
    {
     "name": "stdout",
     "output_type": "stream",
     "text": [
      "11212 > 8000 edges\n",
      "Layer 0: M_0 = |V| = 1000 nodes (0 added),|E| = 11212 edges\n",
      "Execution time: 2.39s\n"
     ]
    }
   ],
   "source": [
    "t_start = time.process_time()\n",
    "dist1, idx1 = graph.distance_lshforest(graph_data1.astype(np.float64), k=FLAGS.number_edges, metric=FLAGS.metric)\n",
    "A1 = graph.adjacency(dist.astype(np.float32), idx1)\n",
    "print(\"{} > {} edges\".format(A1.nnz//2, FLAGS.number_edges*graph_data1.shape[0]//2))\n",
    "A1 = graph.replace_random_edges(A1, 0)\n",
    "graphs1, perm1 = coarsening.coarsen(A1, levels=FLAGS.coarsening_levels, self_connections=False)\n",
    "L1 = [graph.laplacian(A1, normalized=True) for A1 in graphs1]\n",
    "print('Execution time: {:.2f}s'.format(time.process_time() - t_start))\n",
    "#graph.plot_spectrum(L)\n",
    "#del graph_data, A, dist, idx"
   ]
  },
  {
   "cell_type": "code",
   "execution_count": null,
   "metadata": {},
   "outputs": [],
   "source": [
    "graph_data1.shape"
   ]
  },
  {
   "cell_type": "code",
   "execution_count": null,
   "metadata": {},
   "outputs": [],
   "source": [
    "A1.todense()"
   ]
  },
  {
   "cell_type": "code",
   "execution_count": 26,
   "metadata": {},
   "outputs": [
    {
     "name": "stdout",
     "output_type": "stream",
     "text": [
      "Execution time: 0.22s\n"
     ]
    }
   ],
   "source": [
    "t_start = time.process_time()\n",
    "train_data = scipy.sparse.csr_matrix(coarsening.perm_data(train_data.toarray(), perm))\n",
    "test_data = scipy.sparse.csr_matrix(coarsening.perm_data(test_data.toarray(), perm))\n",
    "print('Execution time: {:.2f}s'.format(time.process_time() - t_start))\n",
    "del perm"
   ]
  },
  {
   "cell_type": "code",
   "execution_count": 27,
   "metadata": {},
   "outputs": [
    {
     "name": "stdout",
     "output_type": "stream",
     "text": [
      "Execution time: 0.65s\n"
     ]
    }
   ],
   "source": [
    "t_start = time.process_time()\n",
    "train_data1 = scipy.sparse.csr_matrix(coarsening.perm_data(train_data1.toarray(), perm1))\n",
    "test_data1 = scipy.sparse.csr_matrix(coarsening.perm_data(test_data1.toarray(), perm1))\n",
    "print('Execution time: {:.2f}s'.format(time.process_time() - t_start))\n",
    "del perm1"
   ]
  },
  {
   "cell_type": "markdown",
   "metadata": {},
   "source": [
    "# Classification\n",
    "\n",
    "**Reminder**: change the optimizer to Adam in `lib/models.py`."
   ]
  },
  {
   "cell_type": "code",
   "execution_count": 28,
   "metadata": {
    "collapsed": true
   },
   "outputs": [],
   "source": [
    "# Training set is shuffled already.\n",
    "#perm = np.random.permutation(train_data.shape[0])\n",
    "#train_data = train_data[perm,:]\n",
    "#train_labels = train_labels[perm]\n",
    "\n",
    "# Validation set.\n",
    "if False:\n",
    "    val_data = train_data[:FLAGS.val_size,:]\n",
    "    val_labels = train_labels[:FLAGS.val_size]\n",
    "    train_data = train_data[FLAGS.val_size:,:]\n",
    "    train_labels = train_labels[FLAGS.val_size:]\n",
    "else:\n",
    "    val_data = test_data\n",
    "    val_labels = test_labels"
   ]
  },
  {
   "cell_type": "code",
   "execution_count": 29,
   "metadata": {
    "collapsed": true
   },
   "outputs": [],
   "source": [
    "# Training set is shuffled already.\n",
    "#perm = np.random.permutation(train_data.shape[0])\n",
    "#train_data = train_data[perm,:]\n",
    "#train_labels = train_labels[perm]\n",
    "\n",
    "# Validation set.\n",
    "if False:\n",
    "    val_data1 = train_data1[:FLAGS.val_size,:]\n",
    "    val_labels1 = train_labels1[:FLAGS.val_size]\n",
    "    train_data1 = train_data1[FLAGS.val_size:,:]\n",
    "    train_labels1 = train_labels1[FLAGS.val_size:]\n",
    "else:\n",
    "    val_data1 = test_data1\n",
    "    val_labels1 = test_labels1"
   ]
  },
  {
   "cell_type": "code",
   "execution_count": 30,
   "metadata": {},
   "outputs": [
    {
     "name": "stderr",
     "output_type": "stream",
     "text": [
      "/Library/Frameworks/Python.framework/Versions/3.5/lib/python3.5/site-packages/sklearn/metrics/classification.py:1113: UndefinedMetricWarning: F-score is ill-defined and being set to 0.0 in labels with no predicted samples.\n",
      "  'precision', 'predicted', average, warn_for)\n"
     ]
    },
    {
     "name": "stdout",
     "output_type": "stream",
     "text": [
      "Train accuracy:      46.08 55.27 64.24 99.13 71.39 69.75 73.51\n",
      "Test accuracy:       28.95 46.90 48.99 49.26 54.80 56.39 57.15\n",
      "Train F1 (weighted): 46.34 53.35 64.96 99.13 69.93 68.96 72.86\n",
      "Test F1 (weighted):  28.54 44.72 49.45 48.62 52.50 55.03 56.03\n",
      "Execution time:       6.90  0.95  0.02  1.75  0.02  1.02  0.92\n"
     ]
    }
   ],
   "source": [
    "if True:\n",
    "    utils.baseline(train_data, train_labels, test_data, test_labels)"
   ]
  },
  {
   "cell_type": "code",
   "execution_count": 31,
   "metadata": {},
   "outputs": [
    {
     "name": "stderr",
     "output_type": "stream",
     "text": [
      "/Library/Frameworks/Python.framework/Versions/3.5/lib/python3.5/site-packages/sklearn/metrics/classification.py:1113: UndefinedMetricWarning: F-score is ill-defined and being set to 0.0 in labels with no predicted samples.\n",
      "  'precision', 'predicted', average, warn_for)\n",
      "/Library/Frameworks/Python.framework/Versions/3.5/lib/python3.5/site-packages/sklearn/metrics/classification.py:1113: UndefinedMetricWarning: F-score is ill-defined and being set to 0.0 in labels with no predicted samples.\n",
      "  'precision', 'predicted', average, warn_for)\n"
     ]
    },
    {
     "name": "stdout",
     "output_type": "stream",
     "text": [
      "Train accuracy:      66.23 64.10 51.74 98.53 61.16 66.43 67.34\n",
      "Test accuracy:       58.48 62.45 44.56 58.39 59.85 63.76 64.13\n",
      "Train F1 (weighted): 60.24 54.26 54.13 98.51 46.42 58.82 60.58\n",
      "Test F1 (weighted):  51.43 53.53 46.39 55.16 44.82 57.52 58.63\n",
      "Execution time:      212.39  1.40  0.08 15.62  0.06  2.13  1.77\n"
     ]
    }
   ],
   "source": [
    "if True:\n",
    "    utils.baseline(train_data1, train_labels1, test_data1, test_labels1)"
   ]
  },
  {
   "cell_type": "code",
   "execution_count": 32,
   "metadata": {
    "collapsed": true
   },
   "outputs": [],
   "source": [
    "common = {}\n",
    "common['dir_name']       = '20news/'\n",
    "common['num_epochs']     = 80\n",
    "common['batch_size']     = 100\n",
    "common['decay_steps']    = len(train_labels) / common['batch_size']\n",
    "common['eval_frequency'] = 5 * common['num_epochs']\n",
    "common['filter']         = 'chebyshev5'\n",
    "common['brelu']          = 'b1relu'\n",
    "common['pool']           = 'mpool1'\n",
    "C = max(train_labels) + 1  # number of classes\n",
    "\n",
    "model_perf = utils.model_perf()"
   ]
  },
  {
   "cell_type": "code",
   "execution_count": 33,
   "metadata": {
    "collapsed": true
   },
   "outputs": [],
   "source": [
    "common = {}\n",
    "common['dir_name']       = 'beer/'\n",
    "common['num_epochs']     = 80\n",
    "common['batch_size']     = 100\n",
    "common['decay_steps']    = len(train_labels1) / common['batch_size']\n",
    "common['eval_frequency'] = 5 * common['num_epochs']\n",
    "common['filter']         = 'chebyshev5'\n",
    "common['brelu']          = 'b1relu'\n",
    "common['pool']           = 'mpool1'\n",
    "C1 = max(train_labels1) + 1  # number of classes\n",
    "\n",
    "model_perf1 = utils.model_perf()"
   ]
  },
  {
   "cell_type": "code",
   "execution_count": null,
   "metadata": {
    "scrolled": true
   },
   "outputs": [],
   "source": [
    "if True:\n",
    "    name = 'softmax'\n",
    "    params = common.copy()\n",
    "    params['dir_name'] += name\n",
    "    params['regularization'] = 0\n",
    "    params['dropout']        = 1\n",
    "    params['learning_rate']  = 1e3\n",
    "    params['decay_rate']     = 0.95\n",
    "    params['momentum']       = 0.9\n",
    "    params['F']              = []\n",
    "    params['K']              = []\n",
    "    params['p']              = []\n",
    "    params['M']              = [C]\n",
    "    model_perf.test(models.cgcnn(L, **params), name, params,\n",
    "                    train_data, train_labels, val_data, val_labels, test_data, test_labels)\n",
    "    #model_perf1.test(models.cgcnn(L, **params), name, params,\n",
    "    #                train_data1, train_labels1, val_data1, val_labels1, test_data1, test_labels1)"
   ]
  },
  {
   "cell_type": "code",
   "execution_count": 35,
   "metadata": {
    "scrolled": true
   },
   "outputs": [
    {
     "name": "stdout",
     "output_type": "stream",
     "text": [
      "NN architecture\n",
      "  input: M_0 = 1000\n",
      "  layer 1: logits (softmax)\n",
      "    representation: M_1 = 4\n",
      "    weights: M_0 * M_1 = 1000 * 4 = 4000\n",
      "    biases: M_1 = 4\n",
      "step 400 / 31981 (epoch 1.00 / 80):\n",
      "  learning_rate = 1.00e+03, loss_average = 3.19e+02\n",
      "  validation accuracy: 59.67 (5612 / 9405), f1 (weighted): 45.34, loss: 2.52e+02\n",
      "  time: 2s (wall 1s)\n",
      "step 800 / 31981 (epoch 2.00 / 80):\n",
      "  learning_rate = 9.50e+02, loss_average = 2.79e+02\n",
      "  validation accuracy: 59.86 (5630 / 9405), f1 (weighted): 44.84, loss: 4.31e+02\n",
      "  time: 3s (wall 2s)\n"
     ]
    },
    {
     "name": "stderr",
     "output_type": "stream",
     "text": [
      "/Library/Frameworks/Python.framework/Versions/3.5/lib/python3.5/site-packages/sklearn/metrics/classification.py:1113: UndefinedMetricWarning: F-score is ill-defined and being set to 0.0 in labels with no predicted samples.\n",
      "  'precision', 'predicted', average, warn_for)\n"
     ]
    },
    {
     "name": "stdout",
     "output_type": "stream",
     "text": [
      "step 1200 / 31981 (epoch 3.00 / 80):\n",
      "  learning_rate = 9.02e+02, loss_average = 1.71e+02\n",
      "  validation accuracy: 61.70 (5803 / 9405), f1 (weighted): 58.94, loss: 5.48e+01\n",
      "  time: 4s (wall 3s)\n",
      "step 1600 / 31981 (epoch 4.00 / 80):\n",
      "  learning_rate = 8.57e+02, loss_average = 1.21e+02\n",
      "  validation accuracy: 60.50 (5690 / 9405), f1 (weighted): 46.66, loss: 1.56e+02\n",
      "  time: 6s (wall 4s)\n",
      "step 2000 / 31981 (epoch 5.00 / 80):\n",
      "  learning_rate = 7.74e+02, loss_average = 1.16e+02\n",
      "  validation accuracy: 59.32 (5579 / 9405), f1 (weighted): 58.71, loss: 5.78e+01\n",
      "  time: 7s (wall 5s)\n",
      "step 2400 / 31981 (epoch 6.00 / 80):\n",
      "  learning_rate = 7.35e+02, loss_average = 1.88e+02\n",
      "  validation accuracy: 54.75 (5149 / 9405), f1 (weighted): 49.79, loss: 1.55e+02\n",
      "  time: 8s (wall 6s)\n",
      "step 2800 / 31981 (epoch 7.00 / 80):\n",
      "  learning_rate = 6.98e+02, loss_average = 1.48e+02\n",
      "  validation accuracy: 59.89 (5633 / 9405), f1 (weighted): 48.08, loss: 1.46e+02\n",
      "  time: 10s (wall 7s)\n",
      "step 3200 / 31981 (epoch 8.00 / 80):\n",
      "  learning_rate = 6.63e+02, loss_average = 8.01e+01\n",
      "  validation accuracy: 60.97 (5734 / 9405), f1 (weighted): 59.62, loss: 6.68e+01\n",
      "  time: 12s (wall 8s)\n",
      "step 3600 / 31981 (epoch 9.01 / 80):\n",
      "  learning_rate = 6.30e+02, loss_average = 9.93e+01\n",
      "  validation accuracy: 54.44 (5120 / 9405), f1 (weighted): 53.62, loss: 6.73e+01\n",
      "  time: 13s (wall 9s)\n",
      "step 4000 / 31981 (epoch 10.01 / 80):\n",
      "  learning_rate = 5.99e+02, loss_average = 1.15e+02\n",
      "  validation accuracy: 60.01 (5644 / 9405), f1 (weighted): 45.21, loss: 1.96e+02\n",
      "  time: 15s (wall 10s)\n",
      "step 4400 / 31981 (epoch 11.01 / 80):\n",
      "  learning_rate = 5.69e+02, loss_average = 8.06e+01\n",
      "  validation accuracy: 35.68 (3356 / 9405), f1 (weighted): 26.65, loss: 1.19e+02\n",
      "  time: 16s (wall 11s)\n",
      "step 4800 / 31981 (epoch 12.01 / 80):\n",
      "  learning_rate = 5.40e+02, loss_average = 5.47e+01\n",
      "  validation accuracy: 62.55 (5883 / 9405), f1 (weighted): 60.06, loss: 3.95e+01\n",
      "  time: 18s (wall 12s)\n",
      "step 5200 / 31981 (epoch 13.01 / 80):\n",
      "  learning_rate = 5.13e+02, loss_average = 5.61e+01\n",
      "  validation accuracy: 52.07 (4897 / 9405), f1 (weighted): 52.86, loss: 4.18e+01\n",
      "  time: 19s (wall 13s)\n",
      "step 5600 / 31981 (epoch 14.01 / 80):\n",
      "  learning_rate = 4.88e+02, loss_average = 4.24e+01\n",
      "  validation accuracy: 57.45 (5403 / 9405), f1 (weighted): 56.59, loss: 4.31e+01\n",
      "  time: 21s (wall 15s)\n",
      "step 6000 / 31981 (epoch 15.01 / 80):\n",
      "  learning_rate = 4.63e+02, loss_average = 5.37e+01\n",
      "  validation accuracy: 62.28 (5857 / 9405), f1 (weighted): 58.94, loss: 3.95e+01\n",
      "  time: 23s (wall 16s)\n",
      "step 6400 / 31981 (epoch 16.01 / 80):\n",
      "  learning_rate = 4.40e+02, loss_average = 5.63e+01\n",
      "  validation accuracy: 60.87 (5725 / 9405), f1 (weighted): 52.44, loss: 5.94e+01\n",
      "  time: 24s (wall 16s)\n",
      "step 6800 / 31981 (epoch 17.01 / 80):\n",
      "  learning_rate = 4.18e+02, loss_average = 5.15e+01\n",
      "  validation accuracy: 63.50 (5972 / 9405), f1 (weighted): 56.42, loss: 4.69e+01\n",
      "  time: 26s (wall 18s)\n",
      "step 7200 / 31981 (epoch 18.01 / 80):\n",
      "  learning_rate = 3.97e+02, loss_average = 6.66e+01\n",
      "  validation accuracy: 48.09 (4523 / 9405), f1 (weighted): 45.70, loss: 8.69e+01\n",
      "  time: 27s (wall 19s)\n",
      "step 7600 / 31981 (epoch 19.01 / 80):\n",
      "  learning_rate = 3.77e+02, loss_average = 3.98e+01\n",
      "  validation accuracy: 61.00 (5737 / 9405), f1 (weighted): 48.27, loss: 7.30e+01\n",
      "  time: 29s (wall 20s)\n",
      "step 8000 / 31981 (epoch 20.01 / 80):\n",
      "  learning_rate = 3.58e+02, loss_average = 9.31e+01\n",
      "  validation accuracy: 60.38 (5679 / 9405), f1 (weighted): 46.27, loss: 1.45e+02\n",
      "  time: 31s (wall 21s)\n",
      "step 8400 / 31981 (epoch 21.01 / 80):\n",
      "  learning_rate = 3.41e+02, loss_average = 3.61e+01\n",
      "  validation accuracy: 63.75 (5996 / 9405), f1 (weighted): 58.63, loss: 3.38e+01\n",
      "  time: 32s (wall 22s)\n",
      "step 8800 / 31981 (epoch 22.01 / 80):\n",
      "  learning_rate = 3.24e+02, loss_average = 5.06e+01\n",
      "  validation accuracy: 39.78 (3741 / 9405), f1 (weighted): 33.92, loss: 6.41e+01\n",
      "  time: 34s (wall 23s)\n",
      "step 9200 / 31981 (epoch 23.01 / 80):\n",
      "  learning_rate = 3.07e+02, loss_average = 4.07e+01\n",
      "  validation accuracy: 60.36 (5677 / 9405), f1 (weighted): 50.85, loss: 4.55e+01\n",
      "  time: 35s (wall 24s)\n",
      "step 9600 / 31981 (epoch 24.01 / 80):\n",
      "  learning_rate = 2.92e+02, loss_average = 2.35e+01\n",
      "  validation accuracy: 58.96 (5545 / 9405), f1 (weighted): 52.89, loss: 3.23e+01\n",
      "  time: 37s (wall 25s)\n",
      "step 10000 / 31981 (epoch 25.01 / 80):\n",
      "  learning_rate = 2.77e+02, loss_average = 2.95e+01\n",
      "  validation accuracy: 54.17 (5095 / 9405), f1 (weighted): 53.24, loss: 3.15e+01\n",
      "  time: 38s (wall 26s)\n",
      "step 10400 / 31981 (epoch 26.01 / 80):\n",
      "  learning_rate = 2.64e+02, loss_average = 2.38e+01\n",
      "  validation accuracy: 62.91 (5917 / 9405), f1 (weighted): 57.82, loss: 2.75e+01\n",
      "  time: 40s (wall 27s)\n",
      "step 10800 / 31981 (epoch 27.02 / 80):\n",
      "  learning_rate = 2.50e+02, loss_average = 3.38e+01\n",
      "  validation accuracy: 56.93 (5354 / 9405), f1 (weighted): 55.57, loss: 3.91e+01\n",
      "  time: 41s (wall 28s)\n",
      "step 11200 / 31981 (epoch 28.02 / 80):\n",
      "  learning_rate = 2.38e+02, loss_average = 2.02e+01\n",
      "  validation accuracy: 51.44 (4838 / 9405), f1 (weighted): 52.66, loss: 2.32e+01\n",
      "  time: 43s (wall 29s)\n",
      "step 11600 / 31981 (epoch 29.02 / 80):\n",
      "  learning_rate = 2.26e+02, loss_average = 1.70e+01\n",
      "  validation accuracy: 54.41 (5117 / 9405), f1 (weighted): 54.06, loss: 2.45e+01\n",
      "  time: 44s (wall 30s)\n",
      "step 12000 / 31981 (epoch 30.02 / 80):\n",
      "  learning_rate = 2.15e+02, loss_average = 2.38e+01\n",
      "  validation accuracy: 63.77 (5998 / 9405), f1 (weighted): 59.23, loss: 3.18e+01\n",
      "  time: 45s (wall 31s)\n",
      "step 12400 / 31981 (epoch 31.02 / 80):\n",
      "  learning_rate = 2.04e+02, loss_average = 1.82e+01\n",
      "  validation accuracy: 58.88 (5538 / 9405), f1 (weighted): 55.72, loss: 2.26e+01\n",
      "  time: 46s (wall 32s)\n",
      "step 12800 / 31981 (epoch 32.02 / 80):\n",
      "  learning_rate = 1.94e+02, loss_average = 1.88e+01\n",
      "  validation accuracy: 61.30 (5765 / 9405), f1 (weighted): 59.50, loss: 1.99e+01\n",
      "  time: 48s (wall 33s)\n",
      "step 13200 / 31981 (epoch 33.02 / 80):\n",
      "  learning_rate = 1.84e+02, loss_average = 2.55e+01\n",
      "  validation accuracy: 43.39 (4081 / 9405), f1 (weighted): 43.25, loss: 2.76e+01\n",
      "  time: 49s (wall 33s)\n",
      "step 13600 / 31981 (epoch 34.02 / 80):\n",
      "  learning_rate = 1.75e+02, loss_average = 1.47e+01\n",
      "  validation accuracy: 61.20 (5756 / 9405), f1 (weighted): 59.92, loss: 1.81e+01\n",
      "  time: 50s (wall 34s)\n",
      "step 14000 / 31981 (epoch 35.02 / 80):\n",
      "  learning_rate = 1.66e+02, loss_average = 1.61e+01\n",
      "  validation accuracy: 61.07 (5744 / 9405), f1 (weighted): 56.89, loss: 1.94e+01\n",
      "  time: 51s (wall 35s)\n",
      "step 14400 / 31981 (epoch 36.02 / 80):\n",
      "  learning_rate = 1.58e+02, loss_average = 1.41e+01\n",
      "  validation accuracy: 61.62 (5795 / 9405), f1 (weighted): 55.29, loss: 2.06e+01\n",
      "  time: 53s (wall 36s)\n",
      "step 14800 / 31981 (epoch 37.02 / 80):\n",
      "  learning_rate = 1.50e+02, loss_average = 1.21e+01\n",
      "  validation accuracy: 61.88 (5820 / 9405), f1 (weighted): 60.47, loss: 1.59e+01\n",
      "  time: 54s (wall 37s)\n",
      "step 15200 / 31981 (epoch 38.02 / 80):\n",
      "  learning_rate = 1.42e+02, loss_average = 1.55e+01\n",
      "  validation accuracy: 58.92 (5541 / 9405), f1 (weighted): 54.73, loss: 1.84e+01\n",
      "  time: 55s (wall 37s)\n",
      "step 15600 / 31981 (epoch 39.02 / 80):\n",
      "  learning_rate = 1.35e+02, loss_average = 1.29e+01\n",
      "  validation accuracy: 62.51 (5879 / 9405), f1 (weighted): 59.88, loss: 1.73e+01\n",
      "  time: 56s (wall 38s)\n",
      "step 16000 / 31981 (epoch 40.02 / 80):\n",
      "  learning_rate = 1.29e+02, loss_average = 1.16e+01\n",
      "  validation accuracy: 62.97 (5922 / 9405), f1 (weighted): 58.18, loss: 1.75e+01\n",
      "  time: 57s (wall 39s)\n",
      "step 16400 / 31981 (epoch 41.02 / 80):\n",
      "  learning_rate = 1.22e+02, loss_average = 1.47e+01\n",
      "  validation accuracy: 61.03 (5740 / 9405), f1 (weighted): 52.23, loss: 2.18e+01\n",
      "  time: 59s (wall 40s)\n",
      "step 16800 / 31981 (epoch 42.02 / 80):\n",
      "  learning_rate = 1.16e+02, loss_average = 1.03e+01\n",
      "  validation accuracy: 61.42 (5777 / 9405), f1 (weighted): 59.20, loss: 1.43e+01\n",
      "  time: 60s (wall 41s)\n",
      "step 17200 / 31981 (epoch 43.02 / 80):\n",
      "  learning_rate = 1.10e+02, loss_average = 1.08e+01\n",
      "  validation accuracy: 53.31 (5014 / 9405), f1 (weighted): 55.22, loss: 1.40e+01\n",
      "  time: 61s (wall 42s)\n",
      "step 17600 / 31981 (epoch 44.03 / 80):\n",
      "  learning_rate = 1.05e+02, loss_average = 1.18e+01\n",
      "  validation accuracy: 38.85 (3654 / 9405), f1 (weighted): 42.48, loss: 1.91e+01\n",
      "  time: 63s (wall 43s)\n",
      "step 18000 / 31981 (epoch 45.03 / 80):\n",
      "  learning_rate = 9.94e+01, loss_average = 9.03e+00\n",
      "  validation accuracy: 50.87 (4784 / 9405), f1 (weighted): 52.04, loss: 1.45e+01\n",
      "  time: 64s (wall 44s)\n"
     ]
    },
    {
     "name": "stdout",
     "output_type": "stream",
     "text": [
      "step 18400 / 31981 (epoch 46.03 / 80):\n",
      "  learning_rate = 9.45e+01, loss_average = 7.87e+00\n",
      "  validation accuracy: 56.18 (5284 / 9405), f1 (weighted): 57.09, loss: 1.28e+01\n",
      "  time: 66s (wall 45s)\n",
      "step 18800 / 31981 (epoch 47.03 / 80):\n",
      "  learning_rate = 8.97e+01, loss_average = 8.47e+00\n",
      "  validation accuracy: 61.70 (5803 / 9405), f1 (weighted): 55.28, loss: 1.61e+01\n",
      "  time: 67s (wall 46s)\n",
      "step 19200 / 31981 (epoch 48.03 / 80):\n",
      "  learning_rate = 8.53e+01, loss_average = 1.16e+01\n",
      "  validation accuracy: 59.04 (5553 / 9405), f1 (weighted): 55.22, loss: 1.44e+01\n",
      "  time: 69s (wall 47s)\n",
      "step 19600 / 31981 (epoch 49.03 / 80):\n",
      "  learning_rate = 8.10e+01, loss_average = 9.67e+00\n",
      "  validation accuracy: 62.31 (5860 / 9405), f1 (weighted): 59.56, loss: 1.29e+01\n",
      "  time: 70s (wall 48s)\n",
      "step 20000 / 31981 (epoch 50.03 / 80):\n",
      "  learning_rate = 7.69e+01, loss_average = 8.18e+00\n",
      "  validation accuracy: 55.65 (5234 / 9405), f1 (weighted): 56.15, loss: 1.28e+01\n",
      "  time: 72s (wall 49s)\n",
      "step 20400 / 31981 (epoch 51.03 / 80):\n",
      "  learning_rate = 7.31e+01, loss_average = 8.13e+00\n",
      "  validation accuracy: 55.63 (5232 / 9405), f1 (weighted): 56.66, loss: 1.18e+01\n",
      "  time: 73s (wall 50s)\n",
      "step 20800 / 31981 (epoch 52.03 / 80):\n",
      "  learning_rate = 6.94e+01, loss_average = 7.85e+00\n",
      "  validation accuracy: 53.89 (5068 / 9405), f1 (weighted): 54.03, loss: 1.33e+01\n",
      "  time: 75s (wall 51s)\n",
      "step 21200 / 31981 (epoch 53.03 / 80):\n",
      "  learning_rate = 6.60e+01, loss_average = 8.16e+00\n",
      "  validation accuracy: 53.51 (5033 / 9405), f1 (weighted): 54.44, loss: 1.21e+01\n",
      "  time: 76s (wall 52s)\n",
      "step 21600 / 31981 (epoch 54.03 / 80):\n",
      "  learning_rate = 6.27e+01, loss_average = 8.40e+00\n",
      "  validation accuracy: 60.41 (5682 / 9405), f1 (weighted): 59.20, loss: 1.13e+01\n",
      "  time: 78s (wall 53s)\n",
      "step 22000 / 31981 (epoch 55.03 / 80):\n",
      "  learning_rate = 5.95e+01, loss_average = 1.04e+01\n",
      "  validation accuracy: 61.92 (5824 / 9405), f1 (weighted): 58.89, loss: 1.25e+01\n",
      "  time: 79s (wall 54s)\n",
      "step 22400 / 31981 (epoch 56.03 / 80):\n",
      "  learning_rate = 5.66e+01, loss_average = 7.85e+00\n",
      "  validation accuracy: 62.19 (5849 / 9405), f1 (weighted): 59.72, loss: 1.15e+01\n",
      "  time: 81s (wall 55s)\n",
      "step 22800 / 31981 (epoch 57.03 / 80):\n",
      "  learning_rate = 5.37e+01, loss_average = 6.88e+00\n",
      "  validation accuracy: 48.96 (4605 / 9405), f1 (weighted): 49.49, loss: 1.29e+01\n",
      "  time: 82s (wall 56s)\n",
      "step 23200 / 31981 (epoch 58.03 / 80):\n",
      "  learning_rate = 5.10e+01, loss_average = 6.78e+00\n",
      "  validation accuracy: 62.91 (5917 / 9405), f1 (weighted): 58.59, loss: 1.26e+01\n",
      "  time: 84s (wall 57s)\n",
      "step 23600 / 31981 (epoch 59.03 / 80):\n",
      "  learning_rate = 4.85e+01, loss_average = 6.79e+00\n",
      "  validation accuracy: 58.51 (5503 / 9405), f1 (weighted): 58.15, loss: 1.11e+01\n",
      "  time: 85s (wall 58s)\n",
      "step 24000 / 31981 (epoch 60.03 / 80):\n",
      "  learning_rate = 4.61e+01, loss_average = 6.59e+00\n",
      "  validation accuracy: 59.73 (5618 / 9405), f1 (weighted): 58.91, loss: 1.04e+01\n",
      "  time: 86s (wall 59s)\n",
      "step 24400 / 31981 (epoch 61.04 / 80):\n",
      "  learning_rate = 4.38e+01, loss_average = 6.32e+00\n",
      "  validation accuracy: 60.81 (5719 / 9405), f1 (weighted): 59.38, loss: 1.05e+01\n",
      "  time: 88s (wall 60s)\n",
      "step 24800 / 31981 (epoch 62.04 / 80):\n",
      "  learning_rate = 4.16e+01, loss_average = 8.02e+00\n",
      "  validation accuracy: 60.73 (5712 / 9405), f1 (weighted): 59.31, loss: 1.11e+01\n",
      "  time: 90s (wall 61s)\n",
      "step 25200 / 31981 (epoch 63.04 / 80):\n",
      "  learning_rate = 3.95e+01, loss_average = 6.34e+00\n",
      "  validation accuracy: 51.91 (4882 / 9405), f1 (weighted): 52.87, loss: 1.11e+01\n",
      "  time: 91s (wall 62s)\n",
      "step 25600 / 31981 (epoch 64.04 / 80):\n",
      "  learning_rate = 3.75e+01, loss_average = 7.00e+00\n",
      "  validation accuracy: 52.95 (4980 / 9405), f1 (weighted): 54.19, loss: 1.05e+01\n",
      "  time: 92s (wall 63s)\n",
      "step 26000 / 31981 (epoch 65.04 / 80):\n",
      "  learning_rate = 3.56e+01, loss_average = 6.65e+00\n",
      "  validation accuracy: 61.63 (5796 / 9405), f1 (weighted): 56.35, loss: 1.17e+01\n",
      "  time: 93s (wall 64s)\n",
      "step 26400 / 31981 (epoch 66.04 / 80):\n",
      "  learning_rate = 3.39e+01, loss_average = 7.18e+00\n",
      "  validation accuracy: 61.45 (5779 / 9405), f1 (weighted): 58.50, loss: 1.08e+01\n",
      "  time: 95s (wall 65s)\n",
      "step 26800 / 31981 (epoch 67.04 / 80):\n",
      "  learning_rate = 3.22e+01, loss_average = 6.87e+00\n",
      "  validation accuracy: 60.40 (5681 / 9405), f1 (weighted): 57.39, loss: 1.06e+01\n",
      "  time: 96s (wall 66s)\n",
      "step 27200 / 31981 (epoch 68.04 / 80):\n",
      "  learning_rate = 3.06e+01, loss_average = 7.05e+00\n",
      "  validation accuracy: 49.57 (4662 / 9405), f1 (weighted): 49.90, loss: 1.16e+01\n",
      "  time: 98s (wall 67s)\n",
      "step 27600 / 31981 (epoch 69.04 / 80):\n",
      "  learning_rate = 2.90e+01, loss_average = 5.75e+00\n",
      "  validation accuracy: 60.39 (5680 / 9405), f1 (weighted): 59.07, loss: 9.73e+00\n",
      "  time: 99s (wall 68s)\n",
      "step 28000 / 31981 (epoch 70.04 / 80):\n",
      "  learning_rate = 2.76e+01, loss_average = 6.37e+00\n",
      "  validation accuracy: 59.14 (5562 / 9405), f1 (weighted): 58.63, loss: 9.51e+00\n",
      "  time: 101s (wall 69s)\n",
      "step 28400 / 31981 (epoch 71.04 / 80):\n",
      "  learning_rate = 2.62e+01, loss_average = 5.63e+00\n",
      "  validation accuracy: 61.23 (5759 / 9405), f1 (weighted): 59.38, loss: 9.78e+00\n",
      "  time: 102s (wall 70s)\n",
      "step 28800 / 31981 (epoch 72.04 / 80):\n",
      "  learning_rate = 2.49e+01, loss_average = 6.13e+00\n",
      "  validation accuracy: 57.33 (5392 / 9405), f1 (weighted): 57.42, loss: 9.37e+00\n",
      "  time: 104s (wall 71s)\n",
      "step 29200 / 31981 (epoch 73.04 / 80):\n",
      "  learning_rate = 2.36e+01, loss_average = 6.35e+00\n",
      "  validation accuracy: 59.91 (5635 / 9405), f1 (weighted): 59.00, loss: 9.61e+00\n",
      "  time: 105s (wall 72s)\n",
      "step 29600 / 31981 (epoch 74.04 / 80):\n",
      "  learning_rate = 2.25e+01, loss_average = 6.43e+00\n",
      "  validation accuracy: 49.75 (4679 / 9405), f1 (weighted): 49.99, loss: 1.12e+01\n",
      "  time: 106s (wall 73s)\n",
      "step 30000 / 31981 (epoch 75.04 / 80):\n",
      "  learning_rate = 2.13e+01, loss_average = 5.89e+00\n",
      "  validation accuracy: 56.54 (5318 / 9405), f1 (weighted): 57.13, loss: 9.25e+00\n",
      "  time: 108s (wall 74s)\n",
      "step 30400 / 31981 (epoch 76.04 / 80):\n",
      "  learning_rate = 2.03e+01, loss_average = 6.17e+00\n",
      "  validation accuracy: 58.10 (5464 / 9405), f1 (weighted): 57.98, loss: 9.12e+00\n",
      "  time: 109s (wall 75s)\n",
      "step 30800 / 31981 (epoch 77.04 / 80):\n",
      "  learning_rate = 1.93e+01, loss_average = 5.46e+00\n",
      "  validation accuracy: 58.76 (5526 / 9405), f1 (weighted): 58.05, loss: 9.16e+00\n",
      "  time: 111s (wall 76s)\n",
      "step 31200 / 31981 (epoch 78.04 / 80):\n",
      "  learning_rate = 1.83e+01, loss_average = 5.32e+00\n",
      "  validation accuracy: 60.07 (5650 / 9405), f1 (weighted): 57.59, loss: 9.62e+00\n",
      "  time: 112s (wall 77s)\n",
      "step 31600 / 31981 (epoch 79.05 / 80):\n",
      "  learning_rate = 1.74e+01, loss_average = 5.97e+00\n",
      "  validation accuracy: 58.06 (5461 / 9405), f1 (weighted): 58.09, loss: 9.03e+00\n",
      "  time: 114s (wall 78s)\n",
      "step 31981 / 31981 (epoch 80.00 / 80):\n",
      "  learning_rate = 1.74e+01, loss_average = 6.00e+00\n",
      "  validation accuracy: 55.28 (5199 / 9405), f1 (weighted): 56.02, loss: 9.22e+00\n",
      "  time: 115s (wall 79s)\n",
      "validation accuracy: peak = 63.77, mean = 57.50\n",
      "train accuracy: 63.30 (25304 / 39977), f1 (weighted): 64.08, loss: 5.50e+00\n",
      "time: 1s (wall 1s)\n",
      "test  accuracy: 55.28 (5199 / 9405), f1 (weighted): 56.02, loss: 9.22e+00\n",
      "time: 0s (wall 0s)\n"
     ]
    }
   ],
   "source": [
    "if True:\n",
    "    name = 'softmax'\n",
    "    params = common.copy()\n",
    "    params['dir_name'] += name\n",
    "    params['regularization'] = 0\n",
    "    params['dropout']        = 1\n",
    "    params['learning_rate']  = 1e3\n",
    "    params['decay_rate']     = 0.95\n",
    "    params['momentum']       = 0.9\n",
    "    params['F']              = []\n",
    "    params['K']              = []\n",
    "    params['p']              = []\n",
    "    params['M']              = [C1]\n",
    "    #model_perf.test(models.cgcnn(L, **params), name, params,\n",
    "                    #train_data, train_labels, val_data, val_labels, test_data, test_labels)\n",
    "    model_perf1.test(models.cgcnn(L, **params), name, params,\n",
    "                    train_data1, train_labels1, val_data1, val_labels1, test_data1, test_labels1)"
   ]
  },
  {
   "cell_type": "code",
   "execution_count": null,
   "metadata": {
    "collapsed": true
   },
   "outputs": [],
   "source": [
    "if True:\n",
    "    name = 'fc_softmax'\n",
    "    params = common.copy()\n",
    "    params['dir_name'] += name\n",
    "    params['regularization'] = 0\n",
    "    params['dropout']        = 1\n",
    "    params['learning_rate']  = 0.1\n",
    "    params['decay_rate']     = 0.95\n",
    "    params['momentum']       = 0.9\n",
    "    params['F']              = []\n",
    "    params['K']              = []\n",
    "    params['p']              = []\n",
    "    params['M']              = [2500, C]\n",
    "    model_perf.test(models.cgcnn(L, **params), name, params,\n",
    "                    train_data, train_labels, val_data, val_labels, test_data, test_labels)"
   ]
  },
  {
   "cell_type": "code",
   "execution_count": null,
   "metadata": {
    "collapsed": true
   },
   "outputs": [],
   "source": [
    "if True:\n",
    "    name = 'fc_fc_softmax'\n",
    "    params = common.copy()\n",
    "    params['dir_name'] += name\n",
    "    params['regularization'] = 0\n",
    "    params['dropout']        = 1\n",
    "    params['learning_rate']  = 0.1\n",
    "    params['decay_rate']     = 0.95\n",
    "    params['momentum']       = 0.9\n",
    "    params['F']              = []\n",
    "    params['K']              = []\n",
    "    params['p']              = []\n",
    "    params['M']              = [2500, 500, C]\n",
    "    model_perf.test(models.cgcnn(L, **params), name, params,\n",
    "                    train_data, train_labels, val_data, val_labels, test_data, test_labels)"
   ]
  },
  {
   "cell_type": "code",
   "execution_count": null,
   "metadata": {
    "collapsed": true
   },
   "outputs": [],
   "source": [
    "if True:\n",
    "    name = 'fgconv_softmax'\n",
    "    params = common.copy()\n",
    "    params['dir_name'] += name\n",
    "    params['filter']         = 'fourier'\n",
    "    params['regularization'] = 0\n",
    "    params['dropout']        = 1\n",
    "    params['learning_rate']  = 0.001\n",
    "    params['decay_rate']     = 1\n",
    "    params['momentum']       = 0\n",
    "    params['F']              = [32]\n",
    "    params['K']              = [L[0].shape[0]]\n",
    "    params['p']              = [1]\n",
    "    params['M']              = [C]\n",
    "    model_perf.test(models.cgcnn(L, **params), name, params,\n",
    "                    train_data, train_labels, val_data, val_labels, test_data, test_labels)"
   ]
  },
  {
   "cell_type": "code",
   "execution_count": null,
   "metadata": {},
   "outputs": [],
   "source": [
    "if True:\n",
    "    name = 'sgconv_softmax'\n",
    "    params = common.copy()\n",
    "    params['dir_name'] += name\n",
    "    params['filter']         = 'spline'\n",
    "    params['regularization'] = 1e-3\n",
    "    params['dropout']        = 1\n",
    "    params['learning_rate']  = 0.1\n",
    "    params['decay_rate']     = 0.999\n",
    "    params['momentum']       = 0\n",
    "    params['F']              = [32]\n",
    "    params['K']              = [5]\n",
    "    params['p']              = [1]\n",
    "    params['M']              = [C]\n",
    "    model_perf.test(models.cgcnn(L, **params), name, params,\n",
    "                    train_data, train_labels, val_data, val_labels, test_data, test_labels)"
   ]
  },
  {
   "cell_type": "code",
   "execution_count": null,
   "metadata": {},
   "outputs": [],
   "source": [
    "if True:\n",
    "    name = 'cgconv_softmax'\n",
    "    params = common.copy()\n",
    "    params['dir_name'] += name\n",
    "    params['regularization'] = 1e-3\n",
    "    params['dropout']        = 1\n",
    "    params['learning_rate']  = 0.1\n",
    "    params['decay_rate']     = 0.999\n",
    "    params['momentum']       = 0\n",
    "    params['F']              = [32]\n",
    "    params['K']              = [5]\n",
    "    params['p']              = [1]\n",
    "    params['M']              = [C]\n",
    "    model_perf.test(models.cgcnn(L, **params), name, params,\n",
    "                    train_data, train_labels, val_data, val_labels, test_data, test_labels)"
   ]
  },
  {
   "cell_type": "code",
   "execution_count": null,
   "metadata": {},
   "outputs": [],
   "source": [
    "if True:\n",
    "    name = 'cgconv_softmax'\n",
    "    params = common.copy()\n",
    "    params['dir_name'] += name\n",
    "    params['regularization'] = 1e-3\n",
    "    params['dropout']        = 1\n",
    "    params['learning_rate']  = 0.1\n",
    "    params['decay_rate']     = 0.999\n",
    "    params['momentum']       = 0\n",
    "    params['F']              = [32]\n",
    "    params['K']              = [5]\n",
    "    params['p']              = [1]\n",
    "    params['M']              = [C1]\n",
    "    model_perf1.test(models.cgcnn(L, **params), name, params,\n",
    "                    train_data1, train_labels1, val_data1, val_labels1, test_data1, test_labels1)"
   ]
  },
  {
   "cell_type": "code",
   "execution_count": null,
   "metadata": {},
   "outputs": [],
   "source": [
    "if True:\n",
    "    name = 'cgconv_fc_softmax'\n",
    "    params = common.copy()\n",
    "    params['dir_name'] += name\n",
    "    params['regularization'] = 0\n",
    "    params['dropout']        = 1\n",
    "    params['learning_rate']  = 0.1\n",
    "    params['decay_rate']     = 0.999\n",
    "    params['momentum']       = 0\n",
    "    params['F']              = [5]\n",
    "    params['K']              = [15]\n",
    "    params['p']              = [1]\n",
    "    params['M']              = [100, C]\n",
    "    model_perf.test(models.cgcnn(L, **params), name, params,\n",
    "                    train_data, train_labels, val_data, val_labels, test_data, test_labels)"
   ]
  },
  {
   "cell_type": "code",
   "execution_count": null,
   "metadata": {},
   "outputs": [
    {
     "name": "stdout",
     "output_type": "stream",
     "text": [
      "NN architecture\n",
      "  input: M_0 = 1000\n",
      "  layer 1: cgconv1\n",
      "    representation: M_0 * F_1 / p_1 = 1000 * 5 / 1 = 5000\n",
      "    weights: F_0 * F_1 * K_1 = 1 * 5 * 15 = 75\n",
      "    biases: F_1 = 5\n",
      "  layer 2: fc1\n",
      "    representation: M_2 = 100\n",
      "    weights: M_1 * M_2 = 5000 * 100 = 500000\n",
      "    biases: M_2 = 100\n",
      "  layer 3: logits (softmax)\n",
      "    representation: M_3 = 4\n",
      "    weights: M_2 * M_3 = 100 * 4 = 400\n",
      "    biases: M_3 = 4\n",
      "step 400 / 31981 (epoch 1.00 / 80):\n",
      "  learning_rate = 1.00e-01, loss_average = 1.02e+00\n"
     ]
    },
    {
     "name": "stderr",
     "output_type": "stream",
     "text": [
      "/Library/Frameworks/Python.framework/Versions/3.5/lib/python3.5/site-packages/sklearn/metrics/classification.py:1113: UndefinedMetricWarning: F-score is ill-defined and being set to 0.0 in labels with no predicted samples.\n",
      "  'precision', 'predicted', average, warn_for)\n"
     ]
    },
    {
     "name": "stdout",
     "output_type": "stream",
     "text": [
      "  validation accuracy: 59.85 (5629 / 9405), f1 (weighted): 44.82, loss: 1.02e+00\n",
      "  time: 123s (wall 29s)\n",
      "step 800 / 31981 (epoch 2.00 / 80):\n",
      "  learning_rate = 9.99e-02, loss_average = 9.29e-01\n",
      "  validation accuracy: 60.94 (5731 / 9405), f1 (weighted): 50.86, loss: 9.69e-01\n",
      "  time: 238s (wall 54s)\n",
      "step 1200 / 31981 (epoch 3.00 / 80):\n",
      "  learning_rate = 9.98e-02, loss_average = 8.37e-01\n",
      "  validation accuracy: 62.55 (5883 / 9405), f1 (weighted): 58.42, loss: 9.18e-01\n",
      "  time: 353s (wall 80s)\n",
      "step 1600 / 31981 (epoch 4.00 / 80):\n",
      "  learning_rate = 9.97e-02, loss_average = 7.73e-01\n",
      "  validation accuracy: 64.25 (6043 / 9405), f1 (weighted): 59.81, loss: 8.93e-01\n",
      "  time: 457s (wall 103s)\n",
      "step 2000 / 31981 (epoch 5.00 / 80):\n",
      "  learning_rate = 9.95e-02, loss_average = 7.86e-01\n",
      "  validation accuracy: 63.58 (5980 / 9405), f1 (weighted): 60.97, loss: 8.85e-01\n",
      "  time: 562s (wall 126s)\n",
      "step 2400 / 31981 (epoch 6.00 / 80):\n",
      "  learning_rate = 9.94e-02, loss_average = 7.52e-01\n",
      "  validation accuracy: 64.44 (6061 / 9405), f1 (weighted): 61.52, loss: 8.74e-01\n",
      "  time: 670s (wall 149s)\n",
      "step 2800 / 31981 (epoch 7.00 / 80):\n",
      "  learning_rate = 9.93e-02, loss_average = 7.50e-01\n",
      "  validation accuracy: 64.52 (6068 / 9405), f1 (weighted): 61.47, loss: 8.71e-01\n",
      "  time: 779s (wall 173s)\n",
      "step 3200 / 31981 (epoch 8.00 / 80):\n",
      "  learning_rate = 9.92e-02, loss_average = 7.38e-01\n",
      "  validation accuracy: 63.66 (5987 / 9405), f1 (weighted): 61.44, loss: 8.80e-01\n",
      "  time: 898s (wall 202s)\n",
      "step 3600 / 31981 (epoch 9.01 / 80):\n",
      "  learning_rate = 9.91e-02, loss_average = 6.86e-01\n",
      "  validation accuracy: 64.24 (6042 / 9405), f1 (weighted): 61.29, loss: 8.79e-01\n",
      "  time: 1012s (wall 228s)\n",
      "step 4000 / 31981 (epoch 10.01 / 80):\n",
      "  learning_rate = 9.90e-02, loss_average = 6.58e-01\n",
      "  validation accuracy: 61.72 (5805 / 9405), f1 (weighted): 60.34, loss: 9.12e-01\n",
      "  time: 1124s (wall 252s)\n",
      "step 4400 / 31981 (epoch 11.01 / 80):\n",
      "  learning_rate = 9.89e-02, loss_average = 6.31e-01\n",
      "  validation accuracy: 62.21 (5851 / 9405), f1 (weighted): 60.21, loss: 9.32e-01\n",
      "  time: 1246s (wall 280s)\n",
      "step 4800 / 31981 (epoch 12.01 / 80):\n",
      "  learning_rate = 9.88e-02, loss_average = 5.68e-01\n",
      "  validation accuracy: 60.37 (5678 / 9405), f1 (weighted): 59.42, loss: 9.79e-01\n",
      "  time: 1364s (wall 307s)\n",
      "step 5200 / 31981 (epoch 13.01 / 80):\n",
      "  learning_rate = 9.87e-02, loss_average = 5.14e-01\n",
      "  validation accuracy: 60.05 (5648 / 9405), f1 (weighted): 58.67, loss: 1.03e+00\n",
      "  time: 1483s (wall 334s)\n",
      "step 5600 / 31981 (epoch 14.01 / 80):\n",
      "  learning_rate = 9.86e-02, loss_average = 4.44e-01\n",
      "  validation accuracy: 59.35 (5582 / 9405), f1 (weighted): 58.08, loss: 1.13e+00\n",
      "  time: 1604s (wall 361s)\n",
      "step 6000 / 31981 (epoch 15.01 / 80):\n",
      "  learning_rate = 9.85e-02, loss_average = 3.71e-01\n",
      "  validation accuracy: 60.05 (5648 / 9405), f1 (weighted): 58.55, loss: 1.21e+00\n",
      "  time: 1722s (wall 387s)\n",
      "step 6400 / 31981 (epoch 16.01 / 80):\n",
      "  learning_rate = 9.84e-02, loss_average = 3.27e-01\n",
      "  validation accuracy: 53.73 (5053 / 9405), f1 (weighted): 54.50, loss: 1.39e+00\n",
      "  time: 1843s (wall 414s)\n",
      "step 6800 / 31981 (epoch 17.01 / 80):\n",
      "  learning_rate = 9.83e-02, loss_average = 2.54e-01\n",
      "  validation accuracy: 56.31 (5296 / 9405), f1 (weighted): 56.02, loss: 1.46e+00\n",
      "  time: 1961s (wall 440s)\n",
      "step 7200 / 31981 (epoch 18.01 / 80):\n",
      "  learning_rate = 9.82e-02, loss_average = 2.16e-01\n",
      "  validation accuracy: 57.50 (5408 / 9405), f1 (weighted): 56.79, loss: 1.57e+00\n",
      "  time: 2081s (wall 468s)\n",
      "step 7600 / 31981 (epoch 19.01 / 80):\n",
      "  learning_rate = 9.81e-02, loss_average = 1.79e-01\n",
      "  validation accuracy: 57.12 (5372 / 9405), f1 (weighted): 56.44, loss: 1.72e+00\n",
      "  time: 2190s (wall 492s)\n",
      "step 8000 / 31981 (epoch 20.01 / 80):\n",
      "  learning_rate = 9.80e-02, loss_average = 1.39e-01\n",
      "  validation accuracy: 56.61 (5324 / 9405), f1 (weighted): 56.11, loss: 1.85e+00\n",
      "  time: 2298s (wall 516s)\n",
      "step 8400 / 31981 (epoch 21.01 / 80):\n",
      "  learning_rate = 9.79e-02, loss_average = 1.09e-01\n",
      "  validation accuracy: 55.01 (5174 / 9405), f1 (weighted): 55.09, loss: 2.03e+00\n",
      "  time: 2408s (wall 539s)\n",
      "step 8800 / 31981 (epoch 22.01 / 80):\n",
      "  learning_rate = 9.78e-02, loss_average = 8.05e-02\n",
      "  validation accuracy: 56.17 (5283 / 9405), f1 (weighted): 55.95, loss: 2.18e+00\n",
      "  time: 2515s (wall 563s)\n",
      "step 9200 / 31981 (epoch 23.01 / 80):\n",
      "  learning_rate = 9.77e-02, loss_average = 6.06e-02\n",
      "  validation accuracy: 56.16 (5282 / 9405), f1 (weighted): 55.86, loss: 2.39e+00\n",
      "  time: 2622s (wall 586s)\n",
      "step 9600 / 31981 (epoch 24.01 / 80):\n",
      "  learning_rate = 9.76e-02, loss_average = 4.27e-02\n",
      "  validation accuracy: 54.73 (5147 / 9405), f1 (weighted): 54.90, loss: 2.59e+00\n",
      "  time: 2731s (wall 610s)\n",
      "step 10000 / 31981 (epoch 25.01 / 80):\n",
      "  learning_rate = 9.75e-02, loss_average = 3.86e-02\n",
      "  validation accuracy: 55.53 (5223 / 9405), f1 (weighted): 55.30, loss: 2.70e+00\n",
      "  time: 2841s (wall 633s)\n",
      "step 10400 / 31981 (epoch 26.01 / 80):\n",
      "  learning_rate = 9.74e-02, loss_average = 2.69e-02\n",
      "  validation accuracy: 55.50 (5220 / 9405), f1 (weighted): 55.34, loss: 2.88e+00\n",
      "  time: 2955s (wall 658s)\n",
      "step 10800 / 31981 (epoch 27.02 / 80):\n",
      "  learning_rate = 9.73e-02, loss_average = 1.91e-02\n",
      "  validation accuracy: 54.99 (5172 / 9405), f1 (weighted): 55.19, loss: 3.03e+00\n",
      "  time: 3068s (wall 683s)\n",
      "step 11200 / 31981 (epoch 28.02 / 80):\n",
      "  learning_rate = 9.72e-02, loss_average = 3.01e-02\n",
      "  validation accuracy: 55.11 (5183 / 9405), f1 (weighted): 55.13, loss: 3.17e+00\n",
      "  time: 3181s (wall 708s)\n",
      "step 11600 / 31981 (epoch 29.02 / 80):\n",
      "  learning_rate = 9.71e-02, loss_average = 6.20e-02\n",
      "  validation accuracy: 55.02 (5175 / 9405), f1 (weighted): 55.16, loss: 3.25e+00\n",
      "  time: 3307s (wall 736s)\n",
      "step 12000 / 31981 (epoch 30.02 / 80):\n",
      "  learning_rate = 9.70e-02, loss_average = 2.30e-02\n",
      "  validation accuracy: 55.59 (5228 / 9405), f1 (weighted): 55.69, loss: 3.33e+00\n",
      "  time: 3423s (wall 761s)\n",
      "step 12400 / 31981 (epoch 31.02 / 80):\n",
      "  learning_rate = 9.69e-02, loss_average = 1.02e-02\n",
      "  validation accuracy: 55.27 (5198 / 9405), f1 (weighted): 55.39, loss: 3.50e+00\n",
      "  time: 3534s (wall 785s)\n",
      "step 12800 / 31981 (epoch 32.02 / 80):\n",
      "  learning_rate = 9.68e-02, loss_average = 9.06e-03\n",
      "  validation accuracy: 56.63 (5326 / 9405), f1 (weighted): 56.11, loss: 3.59e+00\n",
      "  time: 3653s (wall 812s)\n",
      "step 13200 / 31981 (epoch 33.02 / 80):\n",
      "  learning_rate = 9.68e-02, loss_average = 8.60e-03\n",
      "  validation accuracy: 54.62 (5137 / 9405), f1 (weighted): 54.89, loss: 3.73e+00\n",
      "  time: 3770s (wall 839s)\n",
      "step 13600 / 31981 (epoch 34.02 / 80):\n",
      "  learning_rate = 9.67e-02, loss_average = 6.62e-03\n",
      "  validation accuracy: 54.61 (5136 / 9405), f1 (weighted): 54.89, loss: 3.79e+00\n",
      "  time: 3875s (wall 864s)\n",
      "step 14000 / 31981 (epoch 35.02 / 80):\n",
      "  learning_rate = 9.66e-02, loss_average = 2.91e-02\n",
      "  validation accuracy: 52.44 (4932 / 9405), f1 (weighted): 53.24, loss: 3.98e+00\n",
      "  time: 3989s (wall 891s)\n",
      "step 14400 / 31981 (epoch 36.02 / 80):\n",
      "  learning_rate = 9.65e-02, loss_average = 4.39e-02\n",
      "  validation accuracy: 55.40 (5210 / 9405), f1 (weighted): 55.51, loss: 3.90e+00\n",
      "  time: 4108s (wall 919s)\n",
      "step 14800 / 31981 (epoch 37.02 / 80):\n",
      "  learning_rate = 9.64e-02, loss_average = 2.01e-02\n",
      "  validation accuracy: 55.49 (5219 / 9405), f1 (weighted): 55.35, loss: 3.98e+00\n",
      "  time: 4221s (wall 944s)\n",
      "step 15200 / 31981 (epoch 38.02 / 80):\n",
      "  learning_rate = 9.63e-02, loss_average = 1.52e-02\n",
      "  validation accuracy: 55.74 (5242 / 9405), f1 (weighted): 55.43, loss: 4.02e+00\n",
      "  time: 4342s (wall 972s)\n",
      "step 15600 / 31981 (epoch 39.02 / 80):\n",
      "  learning_rate = 9.62e-02, loss_average = 2.98e-03\n",
      "  validation accuracy: 55.39 (5209 / 9405), f1 (weighted): 55.27, loss: 4.12e+00\n",
      "  time: 4467s (wall 1000s)\n",
      "step 16000 / 31981 (epoch 40.02 / 80):\n",
      "  learning_rate = 9.61e-02, loss_average = 8.99e-03\n",
      "  validation accuracy: 54.93 (5166 / 9405), f1 (weighted): 55.02, loss: 4.22e+00\n",
      "  time: 4593s (wall 1029s)\n",
      "step 16400 / 31981 (epoch 41.02 / 80):\n",
      "  learning_rate = 9.60e-02, loss_average = 3.72e-03\n",
      "  validation accuracy: 55.08 (5180 / 9405), f1 (weighted): 55.14, loss: 4.21e+00\n",
      "  time: 4715s (wall 1056s)\n"
     ]
    }
   ],
   "source": [
    "if True:\n",
    "    name = 'cgconv_fc_softmax'\n",
    "    params = common.copy()\n",
    "    params['dir_name'] += name\n",
    "    params['regularization'] = 0\n",
    "    params['dropout']        = 1\n",
    "    params['learning_rate']  = 0.1\n",
    "    params['decay_rate']     = 0.999\n",
    "    params['momentum']       = 0\n",
    "    params['F']              = [5]\n",
    "    params['K']              = [15]\n",
    "    params['p']              = [1]\n",
    "    params['M']              = [100, C1]\n",
    "    model_perf1.test(models.cgcnn(L, **params), name, params,\n",
    "                    train_data1, train_labels1, val_data1, val_labels1, test_data1, test_labels1)"
   ]
  },
  {
   "cell_type": "code",
   "execution_count": null,
   "metadata": {},
   "outputs": [],
   "source": [
    "model_perf.show()"
   ]
  },
  {
   "cell_type": "code",
   "execution_count": null,
   "metadata": {},
   "outputs": [],
   "source": [
    "model_perf1.show()"
   ]
  },
  {
   "cell_type": "code",
   "execution_count": null,
   "metadata": {
    "collapsed": true
   },
   "outputs": [],
   "source": [
    "if False:\n",
    "    grid_params = {}\n",
    "    data = (train_data, train_labels, val_data, val_labels, test_data, test_labels)\n",
    "    utils.grid_search(params, grid_params, *data, model=lambda x: models.cgcnn(L,**x))"
   ]
  }
 ],
 "metadata": {
  "kernelspec": {
   "display_name": "Python 3",
   "language": "python",
   "name": "python3"
  },
  "language_info": {
   "codemirror_mode": {
    "name": "ipython",
    "version": 3
   },
   "file_extension": ".py",
   "mimetype": "text/x-python",
   "name": "python",
   "nbconvert_exporter": "python",
   "pygments_lexer": "ipython3",
   "version": "3.5.2"
  }
 },
 "nbformat": 4,
 "nbformat_minor": 1
}
